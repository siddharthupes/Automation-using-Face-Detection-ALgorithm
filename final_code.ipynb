{
 "cells": [
  {
   "cell_type": "markdown",
   "metadata": {},
   "source": [
    "## Hello Everyone !! "
   ]
  },
  {
   "cell_type": "markdown",
   "metadata": {},
   "source": [
    "## Defining Function for taking images for training model"
   ]
  },
  {
   "cell_type": "code",
   "execution_count": 1,
   "metadata": {},
   "outputs": [
    {
     "name": "stderr",
     "output_type": "stream",
     "text": [
      "<>:18: SyntaxWarning: \"is\" with a literal. Did you mean \"==\"?\n",
      "<>:18: SyntaxWarning: \"is\" with a literal. Did you mean \"==\"?\n",
      "C:\\Users\\ushiv\\AppData\\Local\\Temp/ipykernel_7768/2898467479.py:18: SyntaxWarning: \"is\" with a literal. Did you mean \"==\"?\n",
      "  if faces is ():\n"
     ]
    }
   ],
   "source": [
    "import cv2,os\n",
    "import numpy as np\n",
    "import subprocess as sb\n",
    "from os import listdir\n",
    "from os.path import isfile, join\n",
    "\n",
    "# Load HAAR face classifier\n",
    "face_classifier = cv2.CascadeClassifier('haarcascade_frontalface_default.xml')\n",
    "\n",
    "# Load functions\n",
    "def face_extractor(img):\n",
    "    # Function detects faces and returns the cropped face\n",
    "    # If no face detected, it returns the input image\n",
    "    \n",
    "    gray = cv2.cvtColor(img,cv2.COLOR_BGR2GRAY)\n",
    "    faces = face_classifier.detectMultiScale(gray, 1.3, 5)\n",
    "    \n",
    "    if faces is ():\n",
    "        return None\n",
    "    \n",
    "    # Crop all faces found\n",
    "    for (x,y,w,h) in faces:\n",
    "        cropped_face = img[y:y+h, x:x+w]\n",
    "\n",
    "    return cropped_face\n",
    "def Take_sample_img(Person_Name):\n",
    "    face_classifier = cv2.CascadeClassifier('haarcascade_frontalface_default.xml')\n",
    "    # Initialize Webcam\n",
    "    cap = cv2.VideoCapture(0)\n",
    "    count = 0\n",
    "    try:\n",
    "        # Collect 100 samples of your face from webcam input\n",
    "        os.makedirs(\"./faces/{}\".format(Person_Name), 493 )\n",
    "        while True:\n",
    "\n",
    "            ret, frame = cap.read()\n",
    "            if face_extractor(frame) is not None:\n",
    "                count += 1\n",
    "                face = cv2.resize(face_extractor(frame), (200, 200))\n",
    "                face = cv2.cvtColor(face, cv2.COLOR_BGR2GRAY)\n",
    "\n",
    "                # Save file in specified directory with unique name\n",
    "        \n",
    "                path = \"./faces/{}\".format(Person_Name)+\"/\"\n",
    "                file_name_path = path + str(count) + '.jpg'.format(Person_Name)\n",
    "                cv2.imwrite(file_name_path, face)\n",
    "\n",
    "                # Put count on images and display live count\n",
    "                cv2.putText(face, str(count), (50, 50), cv2.FONT_HERSHEY_COMPLEX, 1, (0,255,0), 2)\n",
    "                cv2.imshow('Face Cropper', face)\n",
    "\n",
    "            else:\n",
    "                #print(\"Face not found\")\n",
    "                pass\n",
    "\n",
    "            if cv2.waitKey(1) == 13 or count == 100: #13 is the Enter Key\n",
    "                break\n",
    "        cap.release()\n",
    "        cv2.destroyAllWindows()      \n",
    "        print(\"Collecting Samples Complete\")        \n",
    "    except Exception as E :\n",
    "        print ('Directory already  created. \\nSample images already takens.{}'.format(E))\n",
    "            \n",
    "\n"
   ]
  },
  {
   "cell_type": "markdown",
   "metadata": {},
   "source": [
    "## Defining function for training the model"
   ]
  },
  {
   "cell_type": "code",
   "execution_count": 2,
   "metadata": {},
   "outputs": [],
   "source": [
    "from os import listdir\n",
    "from os.path import isfile, join\n",
    "import joblib\n",
    "def Train_model(Person_Name):\n",
    "    data_path = './faces/{}'.format(Person_Name)+'/'\n",
    "    onlyfiles = [f for f in listdir(data_path) if isfile(join(data_path, f))]\n",
    "\n",
    "    # Create arrays for training data and labels\n",
    "    Training_Data, Labels = [], []\n",
    "\n",
    "    # Open training images in our datapath\n",
    "    # Create a numpy array for training data\n",
    "    for i, files in enumerate(onlyfiles):\n",
    "        image_path = data_path + onlyfiles[i]\n",
    "        images = cv2.imread(image_path, cv2.IMREAD_GRAYSCALE)\n",
    "        Training_Data.append(np.asarray(images, dtype=np.uint8))\n",
    "        Labels.append(i)\n",
    "\n",
    "    # Create a numpy array for both training data and labels\n",
    "    Labels = np.asarray(Labels, dtype=np.int32)\n",
    "\n",
    "    # Initialize facial recognizer\n",
    "    # model = cv2.face.createLBPHFaceRecognizer()\n",
    "    # NOTE: For OpenCV 3.0 use cv2.face.createLBPHFaceRecognizer()\n",
    "    # pip install opencv-contrib-python\n",
    "    # model = cv2.createLBPHFaceRecognizer()\n",
    "    \n",
    "    Trained_model  = cv2.face_LBPHFaceRecognizer.create()\n",
    "    # Let's train our model \n",
    "    Trained_model.train(np.asarray(Training_Data), np.asarray(Labels))\n",
    "    print(\"Model trained sucessefully\")\n",
    "\n",
    "    #joblib.dump( Trained_model , '{}'.format(Person_Name)+'.pk1')\n",
    "    Trained_model.save(\"{}\".format(Person_Name)+\".yml\")"
   ]
  },
  {
   "cell_type": "markdown",
   "metadata": {},
   "source": [
    "## Taking images for 1st Person"
   ]
  },
  {
   "cell_type": "code",
   "execution_count": 3,
   "metadata": {},
   "outputs": [
    {
     "name": "stdout",
     "output_type": "stream",
     "text": [
      "Collecting Samples Complete\n",
      "Model trained sucessefully\n"
     ]
    }
   ],
   "source": [
    "Take_sample_img(\"shivam1\")\n",
    "Train_model(\"shivam1\")\n"
   ]
  },
  {
   "cell_type": "markdown",
   "metadata": {},
   "source": [
    "## Taking images for 2nd Person"
   ]
  },
  {
   "cell_type": "code",
   "execution_count": 3,
   "metadata": {},
   "outputs": [
    {
     "name": "stdout",
     "output_type": "stream",
     "text": [
      "Collecting Samples Complete\n",
      "Model trained sucessefully\n"
     ]
    }
   ],
   "source": [
    "Take_sample_img(\"vishal\")\n",
    "Train_model(\"vishal\")"
   ]
  },
  {
   "cell_type": "markdown",
   "metadata": {},
   "source": [
    "## Defining function for sending Whatsapp message to all group members"
   ]
  },
  {
   "cell_type": "code",
   "execution_count": 49,
   "metadata": {},
   "outputs": [],
   "source": [
    "from twilio.rest import Client \n",
    "import os\n",
    " \n",
    "account_sid = os.environ['TWILIO_ACCOUNT_SID']\n",
    "auth_token = os.environ['TWILIO_AUTH_TOKEN']\n",
    "client = Client(account_sid, auth_token) \n",
    "\n",
    "ss=['whatsapp:+918396098697','whatsapp:+919760105131','whatsapp:+917906161734', 'whatsapp:+919971300298']\n",
    "for i in ss:\n",
    "    message = client.messages.create( \n",
    "                              from_='whatsapp:+14155238886',  \n",
    "                              body='A warm welcome from our Minor2 project!! Have a good day. This message is sent automatically',      \n",
    "                              to= i \n",
    "                          ) \n",
    "    print(message.sid)"
   ]
  },
  {
   "cell_type": "markdown",
   "metadata": {},
   "source": [
    "## Defining function for launching Instance and Volume and attaching it to the instance in AWS"
   ]
  },
  {
   "cell_type": "code",
   "execution_count": 4,
   "metadata": {},
   "outputs": [],
   "source": [
    "import os\n",
    "import subprocess as sp\n",
    "import time\n",
    "\n",
    "def aws_setup():\n",
    "    print(\" Launching EC2 instance on your AWS \") \n",
    "    os.system(\"aws ec2 run-instances --image-id ami-0d2986f2e8c0f7d01 --tag-specifications ResourceType=instance,Tags=[{Key=Name,Value=Mino2-Instance}] --instance-type t2.micro --security-group-ids sg-0913b0e4b3ac52de2 --key-name Minor2\")\n",
    "    print(\" Instance Launched\")\n",
    "    print(\"You can also see from the WEB UI that the Amazon Linux has been launched\")\n",
    "    print(\"Launching and attaching EBS volume of 5GB to the instance\")\n",
    "    os.system(\"aws ec2 create-volume --availability-zone ap-south-1a --volume-type gp2 --size 5 --tag-specifications ResourceType=volume,Tags=[{Key=Name,Value=Minor2-EBS}] \")\n",
    "    print(\" EBS Volume Launched\")\n",
    "    time.sleep(20)\n",
    "    volid=sp.getoutput('aws ec2 describe-volumes  --filters Name=size,Values=5 --query \"Volumes[*].VolumeId\" --output=text')\n",
    "    instid=sp.getoutput('aws ec2 describe-instances --filters Name=instance-state-name,Values=running --query \"Reservations[*].Instances[*].InstanceId\" --output=text')\n",
    "    print(\" Attaching volume to the instance\")\n",
    "    os.system(\"aws ec2 attach-volume --volume-id {} --instance-id {} --device /dev/sdf\".format(volid,instid))\n",
    "    print(\"EBS volume has been created and attached. You can see it from the web UI\")"
   ]
  },
  {
   "cell_type": "code",
   "execution_count": 5,
   "metadata": {},
   "outputs": [],
   "source": [
    "import smtplib\n",
    "import os\n",
    "from smtplib import SMTPException\n",
    "\n",
    "\n",
    "def send_mail():\n",
    "    #password= os.environ['mail_pass']\n",
    "    # set up the SMTP server\n",
    "    s = smtplib.SMTP_SSL('smtp.gmail.com', 465)\n",
    "    #s.starttls()\n",
    "    s.login('prosperomirianda@gmail.com' , mail_pass)\n",
    "    try:\n",
    "        sender = 'techtrollers123@gmail.com'\n",
    "        receivers = [\"chauhanvishal00001@gmail.com\",\"raghavgaur1707@gmail.com\"]\n",
    "        message = \"\"\"From: Python Greetings Program \n",
    "To: Owner\n",
    "Subject: Greetings!!\n",
    "Warm Welcome from Shivam!!\n",
    "\"\"\"\n",
    "        \n",
    "        for i  in receivers:\n",
    "            s.sendmail(sender, i , message)         \n",
    "            print(\"Successfully sent email to -->\"+ i)\n",
    "    except Exception as E:\n",
    "        print(\"Error: unable to send email\\n\")"
   ]
  },
  {
   "cell_type": "markdown",
   "metadata": {},
   "source": [
    "## Defining function for sending mail to all group members"
   ]
  },
  {
   "cell_type": "code",
   "execution_count": 51,
   "metadata": {},
   "outputs": [],
   "source": [
    "import smtplib\n",
    "import os\n",
    "from smtplib import SMTPException\n",
    "\n",
    "\n",
    "def send_mail():\n",
    "    password= os.environ['mail_pass']\n",
    "    # set up the SMTP server\n",
    "    s = smtplib.SMTP_SSL('smtp.gmail.com', 465)\n",
    "    #s.starttls()\n",
    "    s.login('techtrollers123@gmail.com' , password)\n",
    "    try:\n",
    "        sender = 'ushivam4u@gmail.com'\n",
    "        receivers = [\"chauhanvishal00001@gmail.com\",\"raghavgaur1707@gmail.com\"]\n",
    "        message = \"\"\"From: Python Greetings Program \n",
    "To: Owner\n",
    "Subject: Greetings!!\n",
    "Warm Welcome from Tech-Trollers!!\n",
    "\"\"\"\n",
    "        \n",
    "        for i  in receivers:\n",
    "            s.sendmail(sender, i , message)         \n",
    "            print(\"Successfully sent email to -->\"+ i)\n",
    "    except Exception as E:\n",
    "        print(\"Error: unable to send email\\n\")"
   ]
  },
  {
   "cell_type": "markdown",
   "metadata": {},
   "source": [
    "## Defining function for predicting the face and giving required output"
   ]
  },
  {
   "cell_type": "code",
   "execution_count": 6,
   "metadata": {},
   "outputs": [
    {
     "name": "stderr",
     "output_type": "stream",
     "text": [
      "<>:16: SyntaxWarning: \"is\" with a literal. Did you mean \"==\"?\n",
      "<>:16: SyntaxWarning: \"is\" with a literal. Did you mean \"==\"?\n",
      "C:\\Users\\ushiv\\AppData\\Local\\Temp/ipykernel_7768/4047555813.py:16: SyntaxWarning: \"is\" with a literal. Did you mean \"==\"?\n",
      "  if faces is ():\n"
     ]
    }
   ],
   "source": [
    "import cv2 \n",
    "import numpy as np\n",
    "def predict_face(person_one, person_two):\n",
    "    rec1=cv2.face.LBPHFaceRecognizer_create()\n",
    "    rec2=cv2.face.LBPHFaceRecognizer_create()\n",
    "    rec1.read( \"{}\".format(person_one)+\".yml\")\n",
    "    rec2.read( \"{}\".format(person_two)+\".yml\")\n",
    "    \n",
    "\n",
    "    face_classifier = cv2.CascadeClassifier('haarcascade_frontalface_default.xml')\n",
    "    def face_detector(img, size=0.5):\n",
    "\n",
    "        # Convert image to grayscale\n",
    "        gray = cv2.cvtColor(img,cv2.COLOR_BGR2GRAY)\n",
    "        faces = face_classifier.detectMultiScale(gray, 1.3, 5)\n",
    "        if faces is ():\n",
    "            return img, []\n",
    "\n",
    "\n",
    "        for (x,y,w,h) in faces:\n",
    "            cv2.rectangle(img,(x,y),(x+w,y+h),(0,255,255),2)\n",
    "            roi = img[y:y+h, x:x+w]\n",
    "            roi = cv2.resize(roi, (200, 200))\n",
    "        return img, roi\n",
    "\n",
    "\n",
    "    # Open Webcam\n",
    "    cap = cv2.VideoCapture(0)\n",
    "    # vimal_model = keras.models.load_model('lbph_trained_data1.h5')\n",
    "    while True:\n",
    "\n",
    "        ret, frame = cap.read()\n",
    "\n",
    "        image, face = face_detector(frame)\n",
    "\n",
    "        try:\n",
    "            face = cv2.cvtColor(face, cv2.COLOR_BGR2GRAY)\n",
    "\n",
    "            # Pass face to prediction model\n",
    "            # \"results\" comprises of a tuple containing the label and the confidence value\n",
    "\n",
    "            results1 = rec1.predict(face)\n",
    "            \n",
    "            results2 = rec2.predict(face)\n",
    "\n",
    "            if results1[1] < 500 :\n",
    "                confidence1 = int( 100 * (1 - (results1[1])/400) )\n",
    "                confidence2 = int( 100 * (1 - (results2[1])/400) )\n",
    "                display_string1 = str(confidence1) + '% Confident it is {}'.format(person_one)\n",
    "                display_string2 = str(confidence2) + '% Confident it is {}'.format(person_two)\n",
    "            #if results2[1] < 500:\n",
    "                #confidence2 = int( 100 * (1 - (results2[1])/400) )\n",
    "                #display_string2 = str(confidence) + '% Confident it is User2'\n",
    "\n",
    "            \n",
    "\n",
    "            if confidence1 > 80 :\n",
    "                cv2.putText(image, display_string1, (100, 120), cv2.FONT_HERSHEY_COMPLEX, 1, (255,120,150), 2)\n",
    "                cv2.putText(image, \"Hey {}\".format(person_one)+\", How r you!\", (250, 450), cv2.FONT_HERSHEY_COMPLEX, 1, (0,255,0), 2)\n",
    "                cv2.imshow('Face Recognition', image )\n",
    "                #whatsapp()\n",
    "                send_mail()\n",
    "                break\n",
    "            \n",
    "                \n",
    "        \n",
    "            elif confidence2 > 80:\n",
    "                \n",
    "                cv2.putText(image, display_string2, (100, 120), cv2.FONT_HERSHEY_COMPLEX, 1, (255,120,150), 2)\n",
    "                cv2.putText(image, \"Hey {}\".format(person_two)+\", How r you!\", (300, 450), cv2.FONT_HERSHEY_COMPLEX, 1, (0,255,0), 2)\n",
    "                cv2.imshow('Face Recognition', image )\n",
    "                aws_setup()\n",
    "                break\n",
    "                \n",
    "            else:\n",
    "\n",
    "                cv2.putText(image, \"I dont know, who r u\", (250, 450), cv2.FONT_HERSHEY_COMPLEX, 1, (0,0,255), 2)\n",
    "                cv2.imshow('Face Recognition', image )\n",
    "\n",
    "        except Exception as E:\n",
    "            print(E)\n",
    "            cv2.putText(image, \"No Face Found\", (220, 120) , cv2.FONT_HERSHEY_COMPLEX, 1, (0,0,255), 2)\n",
    "            cv2.putText(image, \"looking for face\", (250, 450), cv2.FONT_HERSHEY_COMPLEX, 1, (0,0,255), 2)\n",
    "            cv2.imshow('Face Recognition', image )\n",
    "            pass\n",
    "\n",
    "        if cv2.waitKey(1) == 13: #13 is the Enter Key\n",
    "            break\n",
    "\n",
    "    cap.release()\n",
    "    cv2.destroyAllWindows()     "
   ]
  },
  {
   "cell_type": "markdown",
   "metadata": {},
   "source": [
    "## Asking model to analyze the face and do the required tasks"
   ]
  },
  {
   "cell_type": "code",
   "execution_count": 10,
   "metadata": {},
   "outputs": [
    {
     "name": "stdout",
     "output_type": "stream",
     "text": [
      "Successfully sent email to -->chauhanvishal00001@gmail.com\n",
      "Successfully sent email to -->raghavgaur1707@gmail.com\n"
     ]
    }
   ],
   "source": [
    "predict_face(\"shivam1\",\"vishal\")"
   ]
  },
  {
   "cell_type": "markdown",
   "metadata": {},
   "source": [
    "## Thank You !!"
   ]
  },
  {
   "cell_type": "code",
   "execution_count": null,
   "metadata": {},
   "outputs": [],
   "source": []
  },
  {
   "cell_type": "code",
   "execution_count": null,
   "metadata": {},
   "outputs": [],
   "source": []
  },
  {
   "cell_type": "code",
   "execution_count": null,
   "metadata": {},
   "outputs": [],
   "source": []
  }
 ],
 "metadata": {
  "kernelspec": {
   "display_name": "Python 3",
   "language": "python",
   "name": "python3"
  },
  "language_info": {
   "codemirror_mode": {
    "name": "ipython",
    "version": 3
   },
   "file_extension": ".py",
   "mimetype": "text/x-python",
   "name": "python",
   "nbconvert_exporter": "python",
   "pygments_lexer": "ipython3",
   "version": "3.8.8"
  }
 },
 "nbformat": 4,
 "nbformat_minor": 4
}
